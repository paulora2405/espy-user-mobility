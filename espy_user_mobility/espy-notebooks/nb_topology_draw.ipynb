{
 "cells": [
  {
   "cell_type": "markdown",
   "metadata": {},
   "source": [
    "# Topology Draw\n"
   ]
  },
  {
   "cell_type": "code",
   "execution_count": 1,
   "metadata": {},
   "outputs": [
    {
     "name": "stderr",
     "output_type": "stream",
     "text": [
      "/Users/paulo/Developer/python/espy-user-mobility/.venv/lib/python3.11/site-packages/IPython/core/magics/osm.py:417: UserWarning: This is now an optional IPython functionality, setting dhist requires you to install the `pickleshare` library.\n",
      "  self.shell.db['dhist'] = compress_dhist(dhist)[-100:]\n"
     ]
    },
    {
     "name": "stdout",
     "output_type": "stream",
     "text": [
      "/Users/paulo/Developer/python/espy-user-mobility\n",
      "Creating Grid\n",
      "Creating Base Stations\n",
      "Creating Topology\n",
      "Creating Cloud Base Stations and Switches\n",
      "Creating Grid\n",
      "Creating Cloud Topology\n",
      "Creating Cloud Servers\n",
      "\n"
     ]
    }
   ],
   "source": [
    "%cd -q ../../\n",
    "import os, sys\n",
    "from espy_user_mobility.scenario_build import create_grid, create_base_stations, create_topology, create_cloud_servers\n",
    "import numpy as np\n",
    "import EdgeSimPy.edge_sim_py as espy\n",
    "import matplotlib.pyplot as plt\n",
    "import networkx as nx\n",
    "\n",
    "x_size = 10\n",
    "y_size = x_size\n",
    "grid = create_grid(x_size, y_size)\n",
    "create_base_stations(grid)\n",
    "topology = create_topology()\n",
    "create_cloud_servers(topology, grid)\n",
    "print()"
   ]
  },
  {
   "cell_type": "code",
   "execution_count": 2,
   "metadata": {},
   "outputs": [],
   "source": [
    "spectral_pos = nx.spectral_layout(topology, weight=\"delay\")"
   ]
  },
  {
   "cell_type": "code",
   "execution_count": null,
   "metadata": {},
   "outputs": [],
   "source": [
    "kamada_pos = nx.kamada_kawai_layout(topology, pos=spectral_pos)"
   ]
  },
  {
   "cell_type": "code",
   "execution_count": 8,
   "metadata": {},
   "outputs": [],
   "source": [
    "# pos_dict = {\"kamada-kawai_init_spectral\": kamada_pos, \"spectral\": spectral_pos, \"spring_init_spectral\": spring_pos}\n",
    "pos_dict = {\"kamada\": kamada_pos, \"spectral\": spectral_pos}\n",
    "# pos_dict = {\"spectral\": spectral_pos}"
   ]
  },
  {
   "cell_type": "code",
   "execution_count": null,
   "metadata": {},
   "outputs": [],
   "source": [
    "for name, pos in pos_dict.items():\n",
    "    print(f\"Creating {name} plot\")\n",
    "    plt.figure(figsize=(20, 20), dpi=200)\n",
    "    plt.axis(\"off\")\n",
    "    nx.draw(\n",
    "        topology,\n",
    "        with_labels=False,\n",
    "        font_size=2,\n",
    "        font_color=(0, 0, 0, 0.5),\n",
    "        node_size=2,\n",
    "        node_color=\"red\",\n",
    "        edge_color=\"blue\",\n",
    "        width=0.2,\n",
    "        pos=pos,\n",
    "    )\n",
    "    plt.savefig(f\"topology_images/{x_size}x{y_size}_{name}.svg\")\n",
    "    plt.savefig(f\"topology_images/{x_size}x{y_size}_{name}.png\")"
   ]
  }
 ],
 "metadata": {
  "kernelspec": {
   "display_name": ".venv",
   "language": "python",
   "name": "python3"
  },
  "language_info": {
   "codemirror_mode": {
    "name": "ipython",
    "version": 3
   },
   "file_extension": ".py",
   "mimetype": "text/x-python",
   "name": "python",
   "nbconvert_exporter": "python",
   "pygments_lexer": "ipython3",
   "version": "3.11.4"
  }
 },
 "nbformat": 4,
 "nbformat_minor": 2
}
