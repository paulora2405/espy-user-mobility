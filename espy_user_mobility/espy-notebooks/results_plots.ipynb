{
 "cells": [
  {
   "cell_type": "markdown",
   "metadata": {},
   "source": [
    "# Configs\n"
   ]
  },
  {
   "cell_type": "code",
   "execution_count": 1,
   "metadata": {},
   "outputs": [
    {
     "name": "stdout",
     "output_type": "stream",
     "text": [
      "Logs dir: /home/albuquerque/espy-user-mobility/logs.all/scenario-3_sort-by-user-dis/0.6dist-8migr-2160steps/2024-12-18_11-38-26\n",
      "Plots dir: /home/albuquerque/espy-user-mobility/plots/scenario-3_sort-by-user-dis/0.6dist-8migr-2160steps/2024-12-18_11-38-26\n"
     ]
    }
   ],
   "source": [
    "import os\n",
    "import pandas as pd\n",
    "import matplotlib.pyplot as plt\n",
    "import numpy as np\n",
    "import platform\n",
    "import ast\n",
    "from cycler import cycler\n",
    "import matplotlib.animation as animation\n",
    "\n",
    "PROJ_DIR = os.environ.get(\"PROJ_DIR\")\n",
    "if PROJ_DIR is None:\n",
    "    raise ValueError(\"Environment variable PROJ_DIR not set\")\n",
    "if not os.path.exists(PROJ_DIR):\n",
    "    raise FileNotFoundError(f\"Project dir not found: {PROJ_DIR}\")\n",
    "\n",
    "DIR_SUFFIX = os.environ.get(\"DIR_SUFFIX\")\n",
    "if DIR_SUFFIX is None:\n",
    "    DIR_SUFFIX = input(\"Enter a suffix for the directories, e.g '/0.6dist-16migr-2160steps/2024-11-28_21-06-53': \")\n",
    "\n",
    "LOGS_DIR = f\"{PROJ_DIR}/logs.all{DIR_SUFFIX}\"\n",
    "if not os.path.exists(LOGS_DIR):\n",
    "    raise FileNotFoundError(f\"Logs dir not found: {LOGS_DIR}\")\n",
    "PLOTS_DIR = f\"{PROJ_DIR}/plots{DIR_SUFFIX}\"\n",
    "os.makedirs(PLOTS_DIR, exist_ok=True)\n",
    "\n",
    "print(f\"Logs dir: {LOGS_DIR}\")\n",
    "print(f\"Plots dir: {PLOTS_DIR}\")\n",
    "\n",
    "DAY_START_IN_MINUTES = 5 * 60\n",
    "DAY_END_IN_MINUTES = 23 * 60\n",
    "DAY_CYCLE_IN_MINUTES = DAY_END_IN_MINUTES - DAY_START_IN_MINUTES\n",
    "\n",
    "SHOW_TITLES = False"
   ]
  },
  {
   "cell_type": "code",
   "execution_count": null,
   "metadata": {},
   "outputs": [],
   "source": [
    "df_edge_server = pd.read_csv(f\"{LOGS_DIR}/EdgeServer.csv\", low_memory=False)"
   ]
  },
  {
   "cell_type": "code",
   "execution_count": null,
   "metadata": {},
   "outputs": [],
   "source": [
    "# Calculate the mean of \"Resource Score\" for each \"Time Step\"\n",
    "mean_resource_score_edge_cloud = df_edge_server.groupby(\"Time Step\")[\"Resources Score\"].mean()\n",
    "\n",
    "# Plot the mean \"Resource Score\" over \"Time Step\"\n",
    "plt.figure(figsize=(12, 8), layout=\"constrained\")\n",
    "plt.plot(mean_resource_score_edge_cloud.index, mean_resource_score_edge_cloud.values)\n",
    "plt.xlabel(\"Time Step\")\n",
    "plt.ylabel(\"Mean Resource Score\")\n",
    "plt.title(\"Mean Resource Score (Edge and Cloud) over Time Steps\") if SHOW_TITLES else None\n",
    "plt.grid(True)\n",
    "print(f\"Saving plot to {PLOTS_DIR}/mean_resource_score_edge_cloud.png\")\n",
    "plt.savefig(f\"{PLOTS_DIR}/mean_resource_score_edge_cloud.png\")"
   ]
  },
  {
   "cell_type": "code",
   "execution_count": null,
   "metadata": {},
   "outputs": [],
   "source": [
    "# Calculate the mean of \"Resource Score\" for each \"Time Step\"\n",
    "mean_resource_score_edge_only = (\n",
    "    df_edge_server[df_edge_server[\"Model Name\"] != \"CLOUD\"].groupby(\"Time Step\")[\"Resources Score\"].mean()\n",
    ")\n",
    "\n",
    "# Plot the mean \"Resource Score\" over \"Time Step\"\n",
    "plt.figure(figsize=(12, 8), layout=\"constrained\")\n",
    "plt.plot(mean_resource_score_edge_only.index, mean_resource_score_edge_only.values)\n",
    "plt.xlabel(\"Time Step\")\n",
    "plt.ylabel(\"Mean Resource Score\")\n",
    "plt.title(\"Mean Resource Score (Edge only) over Time Steps\") if SHOW_TITLES else None\n",
    "plt.grid(True)\n",
    "print(f\"Saving plot to {PLOTS_DIR}/mean_resource_score_edge_only.png\")\n",
    "plt.savefig(f\"{PLOTS_DIR}/mean_resource_score_edge_only.png\")"
   ]
  },
  {
   "cell_type": "code",
   "execution_count": null,
   "metadata": {},
   "outputs": [],
   "source": [
    "# Calculate the mean of \"Resource Score\" for each \"Time Step\"\n",
    "mean_resource_score_cloud_only = (\n",
    "    df_edge_server[df_edge_server[\"Model Name\"] == \"CLOUD\"].groupby(\"Time Step\")[\"Resources Score\"].mean()\n",
    ")\n",
    "\n",
    "# Plot the mean \"Resource Score\" over \"Time Step\"\n",
    "plt.figure(figsize=(12, 8), layout=\"constrained\")\n",
    "plt.plot(mean_resource_score_cloud_only.index, mean_resource_score_cloud_only.values)\n",
    "plt.xlabel(\"Time Step\")\n",
    "plt.ylabel(\"Mean Resource Score\")\n",
    "plt.title(\"Mean Resource Score (Cloud only) over Time Steps\") if SHOW_TITLES else None\n",
    "plt.grid(True)\n",
    "print(f\"Saving plot to {PLOTS_DIR}/mean_resource_score_cloud_only.png\")\n",
    "plt.savefig(f\"{PLOTS_DIR}/mean_resource_score_cloud_only.png\")"
   ]
  },
  {
   "cell_type": "code",
   "execution_count": null,
   "metadata": {},
   "outputs": [],
   "source": [
    "# Calculate the mean \"Resource Score\" for each \"Model Name\" grouped by \"Time Step\"\n",
    "mean_resource_score_model = df_edge_server.groupby([\"Time Step\", \"Model Name\"])[\"Resources Score\"].mean().unstack()\n",
    "\n",
    "# Plot the mean \"Resource Score\" for each \"Model Name\" over \"Time Step\"\n",
    "plt.figure(figsize=(12, 8), layout=\"constrained\")\n",
    "for model in mean_resource_score_model.columns:\n",
    "    plt.plot(mean_resource_score_model.index, mean_resource_score_model[model], label=model)\n",
    "\n",
    "plt.xlabel(\"Time Step\")\n",
    "plt.ylabel(\"Mean Resource Score\")\n",
    "plt.title(\"Mean Resource Score over Time Steps by Model Name\") if SHOW_TITLES else None\n",
    "plt.legend(title=\"Model Name\")\n",
    "plt.grid(True)\n",
    "print(f\"Saving plot to {PLOTS_DIR}/mean_resource_score_by_model.png\")\n",
    "plt.savefig(f\"{PLOTS_DIR}/mean_resource_score_by_model.png\")"
   ]
  },
  {
   "cell_type": "code",
   "execution_count": null,
   "metadata": {},
   "outputs": [],
   "source": [
    "df_service = pd.read_csv(f\"{LOGS_DIR}/Service.csv\", low_memory=False)"
   ]
  },
  {
   "cell_type": "code",
   "execution_count": null,
   "metadata": {},
   "outputs": [],
   "source": [
    "# Calculate the mean \"Total Distance From Users\" for each \"Time Step\"\n",
    "mean_service_distance_from_users = df_service.groupby(\"Time Step\")[\"Total Distance From Users\"].mean()\n",
    "\n",
    "# Plot the mean \"Total Distance From Users\" over \"Time Step\"\n",
    "plt.figure(figsize=(12, 8), layout=\"constrained\")\n",
    "plt.plot(mean_service_distance_from_users.index, mean_service_distance_from_users.values)\n",
    "plt.xlabel(\"Time Step\")\n",
    "plt.ylabel(\"Mean Normalized Distance from Services to Users\")\n",
    "plt.title(\"Mean Normalized Distance from Services to Users over Time Steps\") if SHOW_TITLES else None\n",
    "plt.grid(True)\n",
    "print(f\"Saving plot to {PLOTS_DIR}/mean_normalized_distance_from_service_to_users.png\")\n",
    "plt.savefig(f\"{PLOTS_DIR}/mean_normalized_distance_from_service_to_users.png\")"
   ]
  },
  {
   "cell_type": "code",
   "execution_count": null,
   "metadata": {},
   "outputs": [],
   "source": [
    "# Sample data\n",
    "x = np.linspace(0, 10, 100)  # X-axis values\n",
    "y1 = np.sin(x)  # First Y-axis values\n",
    "y2 = np.exp(0.3 * x)  # Second Y-axis values\n",
    "\n",
    "# Create a figure and axis\n",
    "fig, ax1 = plt.subplots(layout=\"constrained\")\n",
    "fig.set_size_inches(12, 8)\n",
    "\n",
    "# Plot the first Y-axis\n",
    "ax1.plot(\n",
    "    mean_service_distance_from_users.index,\n",
    "    mean_service_distance_from_users.values,\n",
    "    \"b-\",\n",
    "    label=\"Normalized Distance from Services to Users\",\n",
    ")\n",
    "ax1.set_xlabel(\"Time Step\")\n",
    "ax1.set_ylabel(\"Mean Normalized Distance from Services to Users\", color=\"b\")\n",
    "ax1.tick_params(axis=\"y\", labelcolor=\"b\")\n",
    "ax1.grid(True)\n",
    "ax1.legend(loc=\"upper left\")\n",
    "\n",
    "# Create a second Y-axis\n",
    "ax2 = ax1.twinx()\n",
    "ax2.plot(\n",
    "    mean_resource_score_edge_only.index, mean_resource_score_edge_only.values, \"r--\", label=\"Mean Resource Score (Edge only)\"\n",
    ")\n",
    "ax2.set_ylabel(\"Mean Resource Score (Edge only)\", color=\"r\")\n",
    "ax2.tick_params(axis=\"y\", labelcolor=\"r\")\n",
    "ax2.legend(loc=\"upper right\")\n",
    "\n",
    "# Show the plot\n",
    "plt.title(\"Mean Total Distance From Users & Mean Resource Score over Time Steps over Time Steps\") if SHOW_TITLES else None\n",
    "plt.tight_layout()\n",
    "print(f\"Saving plot to {PLOTS_DIR}/mean_normalized_distance_from_service_to_users_and_mean_resource_score_edge_only.png\")\n",
    "plt.savefig(f\"{PLOTS_DIR}/mean_total_distance_from_users_and_mean_resource_score_edge_only.png\")\n"
   ]
  },
  {
   "cell_type": "code",
   "execution_count": 4,
   "metadata": {},
   "outputs": [],
   "source": [
    "df_user = pd.read_csv(f\"{LOGS_DIR}/User.csv\", low_memory=False)\n",
    "df_user[\"Coordinates\"] = df_user[\"Coordinates\"].apply(ast.literal_eval)"
   ]
  },
  {
   "cell_type": "code",
   "execution_count": null,
   "metadata": {},
   "outputs": [],
   "source": [
    "def mean_delay_for_all_keys(delays: dict | str) -> float:\n",
    "    if isinstance(delays, str):\n",
    "        delays = delays.replace(\"inf\", \"float('inf')\")  # type: ignore\n",
    "        delays = eval(delays)  # type: ignore\n",
    "    if len(delays) == 0 or delays is None:\n",
    "        return np.nan\n",
    "    return float(np.mean([delay for _, delay in delays.items()]))\n",
    "\n",
    "\n",
    "df_user[\"Delay\"] = df_user[\"Delays\"].apply(mean_delay_for_all_keys)\n",
    "mean_delay = df_user.groupby(\"Time Step\")[\"Delay\"].mean()\n",
    "\n",
    "\n",
    "plt.figure(figsize=(12, 8), layout=\"constrained\")\n",
    "plt.plot(mean_delay.index, mean_delay.values)\n",
    "plt.xlabel(\"Time Step\")\n",
    "plt.ylabel(\"Mean Delay from Users to Apps\")\n",
    "plt.title(\"Mean Delay for all Apps over Time Steps\") if SHOW_TITLES else None\n",
    "plt.grid(True)\n",
    "print(f\"Saving plot to {PLOTS_DIR}/mean_delay_all_apps.png\")\n",
    "plt.savefig(f\"{PLOTS_DIR}/mean_delay_all_apps.png\")"
   ]
  },
  {
   "cell_type": "code",
   "execution_count": null,
   "metadata": {},
   "outputs": [],
   "source": [
    "# from scipy.special import erf\n",
    "\n",
    "# mean_user_delays = df_user[\"Delays\"].apply(mean_delay_for_all_keys).replace([np.inf, -np.inf], np.nan).dropna()\n",
    "\n",
    "# plt.figure(figsize=(12, 8), layout=\"constrained\")\n",
    "# mean = mean_user_delays.mean()\n",
    "# std = mean_user_delays.std()\n",
    "# x = np.linspace(mean - 3 * std, mean + 3 * std, 100)\n",
    "# plt.plot(x, (1 / (std * np.sqrt(2 * np.pi))) * np.exp(-0.5 * ((x - mean) / std) ** 2), label=\"Normal Distribution\")\n",
    "# plt.hist(mean_user_delays, bins=30, density=True, alpha=0.6, color=\"g\", label=\"DelayMean Histogram\")\n",
    "# plt.xlabel(\"DelayMean\")\n",
    "# plt.ylabel(\"Density\")\n",
    "# plt.title(\"Normal Distribution of DelayMean\") if SHOW_TITLES else None\n",
    "# plt.legend()\n",
    "# plt.grid(True)\n",
    "# print(f\"Saving plot to {PLOTS_DIR}/normal_distribution_delay_mean.png\")\n",
    "# plt.savefig(f\"{PLOTS_DIR}/normal_distribution_delay_mean.png\")\n",
    "\n",
    "# cdf = (1 + erf((x - mean) / (std * np.sqrt(2)))) / 2\n",
    "\n",
    "# plt.figure(figsize=(12, 8), layout=\"constrained\")\n",
    "# plt.plot(x, cdf, label=\"CDF of Normal Distribution\")\n",
    "# plt.xlabel(\"DelayMean\")\n",
    "# plt.ylabel(\"CDF\")\n",
    "# plt.title(\"CDF of Normal Distribution of DelayMean\") if SHOW_TITLES else None\n",
    "# plt.legend()\n",
    "# plt.grid(True)\n",
    "# print(f\"Saving plot to {PLOTS_DIR}/cdf_normal_distribution_delay_mean.png\")\n",
    "# plt.savefig(f\"{PLOTS_DIR}/cdf_normal_distribution_delay_mean.png\")"
   ]
  },
  {
   "cell_type": "code",
   "execution_count": null,
   "metadata": {},
   "outputs": [],
   "source": [
    "# Group by \"Time Step\" and \"Point of Interest\" and count the number of users\n",
    "poi_counts = df_user.groupby([\"Time Step\", \"Point of Interest\"]).size().unstack(fill_value=0)\n",
    "\n",
    "# Plot the number of users interested in each \"Point of Interest\" over \"Time Step\"\n",
    "fig = plt.figure(figsize=(12, 8), layout=\"constrained\")\n",
    "default_cycler = cycler(linestyle=[\"-\", \"--\", \":\", \"-.\"]) * (\n",
    "    cycler(\n",
    "        color=[\n",
    "            \"tab:blue\",\n",
    "            \"tab:red\",\n",
    "            \"tab:green\",\n",
    "            \"tab:purple\",\n",
    "            \"tab:pink\",\n",
    "            \"tab:brown\",\n",
    "            \"tab:orange\",\n",
    "            \"tab:gray\",\n",
    "            \"tab:olive\",\n",
    "            \"tab:cyan\",\n",
    "        ]\n",
    "    )\n",
    ")\n",
    "plt.rc(\"axes\", prop_cycle=default_cycler)\n",
    "for poi in poi_counts.columns:\n",
    "    plt.plot(poi_counts.index, poi_counts[poi], label=poi)\n",
    "\n",
    "plt.xlabel(\"Time Step\")\n",
    "plt.ylabel(\"Number of Users\")\n",
    "plt.title(\"Number of Users Interested in Each Point of Interest Over Time Steps\") if SHOW_TITLES else None\n",
    "fig.legend(title=\"Point of Interest\", loc=\"outside lower center\", ncols=10)\n",
    "plt.grid(True)\n",
    "print(f\"Saving plot to {PLOTS_DIR}/number_of_users_interested_in_each_poi.png\")\n",
    "plt.savefig(f\"{PLOTS_DIR}/number_of_users_interested_in_each_poi.png\")"
   ]
  },
  {
   "cell_type": "code",
   "execution_count": 2,
   "metadata": {},
   "outputs": [],
   "source": [
    "df_poi = pd.read_csv(f\"{LOGS_DIR}/PointOfInterest.csv\", low_memory=False)\n",
    "df_poi[\"Coordinates\"] = df_poi[\"Coordinates\"].apply(ast.literal_eval)"
   ]
  },
  {
   "cell_type": "code",
   "execution_count": 5,
   "metadata": {},
   "outputs": [
    {
     "name": "stdout",
     "output_type": "stream",
     "text": [
      "Saving animation to /home/albuquerque/espy-user-mobility/plots/scenario-3_sort-by-user-dis/0.6dist-8migr-2160steps/2024-12-18_11-38-26/user_coordinates.mov\n"
     ]
    },
    {
     "data": {
      "image/png": "[encoded data removed]",
      "text/plain": [
       "<Figure size 1200x1200 with 1 Axes>"
      ]
     },
     "metadata": {},
     "output_type": "display_data"
    }
   ],
   "source": [
    "def step_to_datetime(step: int) -> str:\n",
    "    \"\"\"Converts a step to a datetime string.\"\"\"\n",
    "    time_of_day_in_minutes = step % DAY_CYCLE_IN_MINUTES + DAY_START_IN_MINUTES\n",
    "    hours = time_of_day_in_minutes // 60\n",
    "    minutes = time_of_day_in_minutes % 60\n",
    "    return (\n",
    "        f\"Step {step:05d} \"\n",
    "        + f\"Time: {hours:02d}:{minutes % 60:02d} \"\n",
    "        + f\"Day: {time_of_day_in_minutes // DAY_CYCLE_IN_MINUTES + 1} \"\n",
    "    )\n",
    "\n",
    "\n",
    "df_poi_inactive = df_poi[df_poi[\"Is in peak\"] == False]  # noqa: E712\n",
    "df_poi_active = df_poi[df_poi[\"Is in peak\"] == True]  # noqa: E712\n",
    "\n",
    "\n",
    "# Extract unique time steps\n",
    "unique_time_steps = df_user[\"Time Step\"].unique()\n",
    "\n",
    "# Create a figure and axis\n",
    "fig, ax = plt.subplots(figsize=(12, 12), layout=\"constrained\")\n",
    "\n",
    "# Initialize the scatter plot\n",
    "scatter_user = ax.scatter([], [], c=\"blue\", s=5, label=\"User\")\n",
    "scatter_poi_inactive = ax.scatter([], [], c=\"red\", s=15, label=\"Point of Interest (Inactive)\")\n",
    "scatter_poi_active = ax.scatter([], [], c=\"green\", s=15, label=\"Point of Interest (Active)\")\n",
    "\n",
    "# Set axis limits\n",
    "ax.set_xlim(0, 200)\n",
    "ax.set_ylim(0, 100)\n",
    "\n",
    "\n",
    "def update(frame):\n",
    "    # Filter coordinates for the current time step\n",
    "    current_coords_user = df_user[df_user[\"Time Step\"] == frame][\"Coordinates\"].tolist()\n",
    "    current_coords_poi_inactive = df_poi_inactive[df_poi_inactive[\"Time Step\"] == frame][\"Coordinates\"].tolist()\n",
    "    current_coords_poi_active = df_poi_active[df_poi_active[\"Time Step\"] == frame][\"Coordinates\"].tolist()\n",
    "\n",
    "    current_coords_poi_inactive = current_coords_poi_inactive if len(current_coords_poi_inactive) > 0 else [[-1, -1]]\n",
    "    current_coords_poi_active = current_coords_poi_active if len(current_coords_poi_active) > 0 else [[-1, -1]]\n",
    "\n",
    "    # Update scatter plot data\n",
    "    scatter_user.set_offsets(current_coords_user)\n",
    "    scatter_poi_inactive.set_offsets(current_coords_poi_inactive)\n",
    "    scatter_poi_active.set_offsets(current_coords_poi_active)\n",
    "\n",
    "    ax.set_title(step_to_datetime(frame))\n",
    "\n",
    "    return (scatter_user, scatter_poi_inactive, scatter_poi_active)\n",
    "\n",
    "\n",
    "# Create the animation\n",
    "ani = animation.FuncAnimation(fig, update, frames=unique_time_steps, blit=True)\n",
    "\n",
    "# Display the animation\n",
    "print(f\"Saving animation to {PLOTS_DIR}/user_coordinates.mov\")\n",
    "ani.save(f\"{PLOTS_DIR}/user_coordinates.mov\", writer=\"ffmpeg\", fps=30)"
   ]
  }
 ],
 "metadata": {
  "kernelspec": {
   "display_name": ".venv",
   "language": "python",
   "name": "python3"
  },
  "language_info": {
   "codemirror_mode": {
    "name": "ipython",
    "version": 3
   },
   "file_extension": ".py",
   "mimetype": "text/x-python",
   "name": "python",
   "nbconvert_exporter": "python",
   "pygments_lexer": "ipython3",
   "version": "3.12.7"
  },
  "orig_nbformat": 4
 },
 "nbformat": 4,
 "nbformat_minor": 2
}
