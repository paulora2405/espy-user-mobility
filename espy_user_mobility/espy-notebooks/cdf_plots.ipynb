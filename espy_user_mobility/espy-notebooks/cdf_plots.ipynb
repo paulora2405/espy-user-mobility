{
 "cells": [
  {
   "cell_type": "code",
   "execution_count": null,
   "metadata": {},
   "outputs": [],
   "source": [
    "import os\n",
    "import pandas as pd\n",
    "import matplotlib.pyplot as plt\n",
    "import glob\n",
    "import numpy as np\n",
    "from typing import Callable\n",
    "from cycler import cycler\n",
    "\n",
    "PROJ_DIR = os.environ.get(\"PROJ_DIR\", \"\")\n",
    "if PROJ_DIR == \"\":\n",
    "    raise EnvironmentError(\"PROJ_DIR not set\")\n",
    "if not os.path.exists(PROJ_DIR):\n",
    "    raise FileNotFoundError(f\"Project dir not found: {PROJ_DIR}\")\n",
    "\n",
    "LOGS_DIR = f\"{PROJ_DIR}/logs\"\n",
    "PLOTS_DIR = f\"{PROJ_DIR}/plots/cdf\"\n",
    "os.makedirs(PLOTS_DIR, exist_ok=True)"
   ]
  },
  {
   "cell_type": "code",
   "execution_count": null,
   "metadata": {},
   "outputs": [],
   "source": [
    "def read_data(filename: str, column_name: str | None = None, series_process_func: Callable | None = None) -> dict[str, pd.Series]:\n",
    "    if column_name is None and series_process_func is None:\n",
    "        raise ValueError(\"Either column_name or series_process_func must be provided\")\n",
    "    files = glob.glob(f\"{LOGS_DIR}/**/{filename}\", recursive=True)\n",
    "    files.sort()\n",
    "    data_dict = {}\n",
    "    for file in files:\n",
    "        print(f\"Reading '{file.removeprefix(PROJ_DIR+\"/\")}'\")\n",
    "        df_service = pd.read_csv(file, low_memory=False)\n",
    "        dist = f\"{float(file.split(\"dist\")[0].split(\"/\")[-1]):02.1f}\"\n",
    "        migr = f\"{int(file.split(\"migr\")[0].split(\"-\")[-1]):02d}\"\n",
    "        if series_process_func is not None:\n",
    "            data_dict[f\"Distance Threshold={dist}; Migration Threshold={migr}\"] = series_process_func(df_service)\n",
    "        else:\n",
    "            data_dict[f\"Dist {dist} Migr {migr}\"] = df_service[column_name].sort_values()\n",
    "    return data_dict"
   ]
  },
  {
   "cell_type": "code",
   "execution_count": null,
   "metadata": {},
   "outputs": [],
   "source": [
    "def plot_cdfs(\n",
    "    data_dict: dict[str, pd.Series],\n",
    "    xlabel: str,\n",
    "    ylabel=\"Probability of occurrence\",\n",
    "    title: str | None = None,\n",
    "    save_path: str | None = None,\n",
    "    figsize=(12, 8),\n",
    "    n_bins=25,\n",
    "    show_hist=False,\n",
    "    show_title=False,\n",
    "):\n",
    "    if title is None:\n",
    "        title = f\"CDFs of {xlabel}\"\n",
    "    if save_path is None:\n",
    "        save_path = title.lower().replace(\" \", \"_\")\n",
    "        save_path = f\"{PLOTS_DIR}/{save_path}.png\"\n",
    "    print(f\"Plotting CDFs of {len(data_dict)} datasets\")\n",
    "    default_cycler = (\n",
    "        cycler(\n",
    "            color=[\n",
    "                \"tab:blue\",\n",
    "                \"tab:red\",\n",
    "                \"tab:green\",\n",
    "                \"tab:purple\",\n",
    "                \"tab:pink\",\n",
    "                \"tab:brown\",\n",
    "                \"tab:orange\",\n",
    "                \"tab:gray\",\n",
    "                \"tab:olive\",\n",
    "                \"tab:cyan\",\n",
    "            ]\n",
    "        )\n",
    "    ) * (cycler(linestyle=[\"-\", \"--\", \":\", \"-.\"]))\n",
    "    plt.figure(figsize=figsize, layout=\"constrained\")\n",
    "    # plt.style.use(\"ggplot\")\n",
    "    plt.rc(\"axes\", prop_cycle=default_cycler)\n",
    "    for name, data in sorted(data_dict.items()):\n",
    "        print(f\"Plotting CDF curve for {name}\")\n",
    "        plt.ecdf(data, label=f\"{name}\")\n",
    "        if show_hist:\n",
    "            plt.hist(data, n_bins, density=True, histtype=\"step\", cumulative=True, label=f\"Cumulative histogram {name}\")\n",
    "    print(\"Plotting CDF curve for normal distribution\")\n",
    "    if show_title:\n",
    "        plt.title(title)\n",
    "    plt.xlabel(xlabel)\n",
    "    plt.ylabel(ylabel)\n",
    "    plt.legend()\n",
    "    plt.grid(True)\n",
    "    print(f\"Saving plot to {save_path.removeprefix(PROJ_DIR+\"/\")}\")\n",
    "    plt.savefig(save_path)"
   ]
  },
  {
   "cell_type": "code",
   "execution_count": null,
   "metadata": {},
   "outputs": [],
   "source": [
    "plot_cdfs(\n",
    "    data_dict=read_data(\"Service.csv\", \"Total Distance From Users\"),\n",
    "    xlabel=\"Normalized Distance from Services to Users\",\n",
    ")"
   ]
  },
  {
   "cell_type": "code",
   "execution_count": null,
   "metadata": {},
   "outputs": [],
   "source": [
    "def process_df(df: pd.DataFrame) -> pd.Series:\n",
    "    return df[df[\"Model Name\"] != \"CLOUD\"][\"Resources Score\"]\n",
    "\n",
    "\n",
    "plot_cdfs(\n",
    "    data_dict=read_data(\"EdgeServer.csv\", \"Resources Score\", process_df),\n",
    "    xlabel=\"Resource Score (Edge only)\",\n",
    "    figsize=(12, 10),\n",
    ")"
   ]
  },
  {
   "cell_type": "code",
   "execution_count": null,
   "metadata": {},
   "outputs": [],
   "source": [
    "def process_df(df: pd.DataFrame) -> pd.Series:\n",
    "    return df[df[\"Model Name\"] == \"CLOUD\"][\"Resources Score\"]\n",
    "\n",
    "\n",
    "plot_cdfs(\n",
    "    data_dict=read_data(\"EdgeServer.csv\", \"Resources Score\", process_df),\n",
    "    xlabel=\"Resource Score (Cloud only)\",\n",
    "    figsize=(12, 10),\n",
    ")"
   ]
  },
  {
   "cell_type": "code",
   "execution_count": null,
   "metadata": {},
   "outputs": [],
   "source": [
    "def process_user_df(df: pd.DataFrame) -> pd.Series:\n",
    "    def mean_delay_for_all_keys(delays: dict | str | None) -> float:\n",
    "        if isinstance(delays, str):\n",
    "            delays = delays.replace(\"inf\", \"float('inf')\")  # type: ignore\n",
    "            delays = eval(delays)  # type: ignore\n",
    "        if delays is None or len(delays) == 0:\n",
    "            return np.nan\n",
    "        return float(np.mean([delay for _, delay in delays.items()]))  # type: ignore\n",
    "\n",
    "    return df[\"Delays\"].apply(mean_delay_for_all_keys).replace([np.inf, -np.inf], np.nan).dropna()\n",
    "\n",
    "\n",
    "plot_cdfs(\n",
    "    data_dict=read_data(\"User.csv\", \"Delays\", process_user_df),\n",
    "    xlabel=\"Delay from Users to Apps\",\n",
    "    figsize=(12, 10),\n",
    ")"
   ]
  }
 ],
 "metadata": {
  "kernelspec": {
   "display_name": ".venv",
   "language": "python",
   "name": "python3"
  },
  "language_info": {
   "codemirror_mode": {
    "name": "ipython",
    "version": 3
   },
   "file_extension": ".py",
   "mimetype": "text/x-python",
   "name": "python",
   "nbconvert_exporter": "python",
   "pygments_lexer": "ipython3",
   "version": "3.12.7"
  }
 },
 "nbformat": 4,
 "nbformat_minor": 2
}
