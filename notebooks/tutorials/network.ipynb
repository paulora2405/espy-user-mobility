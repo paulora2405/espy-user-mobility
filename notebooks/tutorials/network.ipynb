{
 "cells": [
  {
   "cell_type": "code",
   "execution_count": 3,
   "metadata": {},
   "outputs": [],
   "source": [
    "# Importing EdgeSimPy components\n",
    "from edge_sim_py import *\n",
    "import networkx as nx\n",
    "\n",
    "# Importing Python libraries\n",
    "import os\n",
    "import random\n",
    "import msgpack\n",
    "import pandas as pd"
   ]
  },
  {
   "cell_type": "code",
   "execution_count": 2,
   "metadata": {},
   "outputs": [],
   "source": [
    "def my_algorithm(parameters):\n",
    "    # We can always call the 'all()' method to get a list with all created instances of a given class\n",
    "    for service in Service.all():\n",
    "        # We don't want to migrate services are are already being migrated\n",
    "        if service.server == None and not service.being_provisioned:\n",
    "            # Let's iterate over the list of edge servers to find a suitable host for our service\n",
    "            for edge_server in EdgeServer.all():\n",
    "                # We must check if the edge server has enough resources to host the service\n",
    "                if edge_server.has_capacity_to_host(service=service):\n",
    "                    # Start provisioning the service in the edge server\n",
    "                    service.provision(target_server=edge_server)\n",
    "                    # After start migrating the service we can move on to the next service\n",
    "                    break\n",
    "\n",
    "\n",
    "def stopping_criterion(model: object):\n",
    "    # Defining a variable that will help us to count the number of services successfully provisioned within the infrastructure\n",
    "    provisioned_services = 0\n",
    "    # Iterating over the list of services to count the number of services provisioned within the infrastructure\n",
    "    for service in Service.all():\n",
    "        # Initially, services are not hosted by any server (i.e., their \"server\" attribute is None).\n",
    "        # Once that value changes, we know that it has been successfully provisioned inside an edge server.\n",
    "        if service.server != None:\n",
    "            provisioned_services += 1\n",
    "    # As EdgeSimPy will halt the simulation whenever this function returns True, its output will be a boolean expression\n",
    "    # that checks if the number of provisioned services equals to the number of services spawned in our simulation\n",
    "    return provisioned_services == Service.count()"
   ]
  },
  {
   "cell_type": "code",
   "execution_count": null,
   "metadata": {},
   "outputs": [],
   "source": [
    "# Creating a Simulator object\n",
    "simulator = Simulator(\n",
    "    dump_interval=5,\n",
    "    tick_duration=1,\n",
    "    tick_unit=\"seconds\",\n",
    "    stopping_criterion=stopping_criterion,\n",
    "    resource_management_algorithm=my_algorithm,\n",
    ")\n",
    "\n",
    "scenario = ComponentManager.export_scenario()\n",
    "\n",
    "G = nx.Graph()\n",
    "Topology(existing_graph=G)\n",
    "\n",
    "# Loading a sample dataset from GitHub\n",
    "simulator.initialize(input_file=\"https://raw.githubusercontent.com/EdgeSimPy/edgesimpy-tutorials/master/datasets/sample_dataset2.json\")\n",
    "\n",
    "# Executing the simulation\n",
    "simulator.run_model()"
   ]
  }
 ],
 "metadata": {
  "kernelspec": {
   "display_name": ".venv",
   "language": "python",
   "name": "python3"
  },
  "language_info": {
   "codemirror_mode": {
    "name": "ipython",
    "version": 3
   },
   "file_extension": ".py",
   "mimetype": "text/x-python",
   "name": "python",
   "nbconvert_exporter": "python",
   "pygments_lexer": "ipython3",
   "version": "3.11.5"
  },
  "orig_nbformat": 4
 },
 "nbformat": 4,
 "nbformat_minor": 2
}
